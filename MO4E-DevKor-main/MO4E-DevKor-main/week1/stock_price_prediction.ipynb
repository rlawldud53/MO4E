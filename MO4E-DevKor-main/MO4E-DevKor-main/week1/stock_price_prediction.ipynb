{
  "nbformat": 4,
  "nbformat_minor": 0,
  "metadata": {
    "colab": {
      "provenance": []
    },
    "kernelspec": {
      "name": "python3",
      "display_name": "Python 3"
    },
    "language_info": {
      "name": "python"
    }
  },
  "cells": [
    {
      "cell_type": "code",
      "execution_count": 1,
      "metadata": {
        "colab": {
          "base_uri": "https://localhost:8080/"
        },
        "id": "oDgKs_yCAqq7",
        "outputId": "ede30d07-0b7c-4503-9c72-b2d632a9c98a"
      },
      "outputs": [
        {
          "output_type": "stream",
          "name": "stdout",
          "text": [
            "Installing collected packages: zope.interface, deprecated, datetime, pykrx\n",
            "Successfully installed datetime-5.2 deprecated-1.2.14 pykrx-1.0.45 zope.interface-6.1\n"
          ]
        }
      ],
      "source": [
        "!pip install pykrx"
      ]
    },
    {
      "cell_type": "code",
      "source": [
        "from pykrx import stock\n",
        "from pykrx import bond\n",
        "import pandas as pd\n",
        "import numpy as np\n",
        "from sklearn.preprocessing import MinMaxScaler\n",
        "from sklearn.linear_model import LinearRegression\n",
        "from sklearn.model_selection import train_test_split"
      ],
      "metadata": {
        "id": "vch_z259Ayko"
      },
      "execution_count": 161,
      "outputs": []
    },
    {
      "cell_type": "code",
      "source": [
        "tickers = stock.get_market_ticker_list(\"20231105\")\n",
        "print(tickers)"
      ],
      "metadata": {
        "colab": {
          "base_uri": "https://localhost:8080/"
        },
        "id": "oKM6bQT-BM0v",
        "outputId": "ed1cf4d4-1b51-4570-faff-06f3f8888b4d"
      },
      "execution_count": 4,
      "outputs": [
        {
          "output_type": "stream",
          "name": "stdout",
          "text": [
            "['095570', '006840', '027410', '282330', '138930', '001460', '001465', '001040', '079160', '00104K', '000120', '011150', '011155', '001045', '097950', '097955', '000480', '000590', '012030', '016610', '005830', '000990', '139130', '001530', '000210', '001880', '000215', '375500', '37550L', '37550K', '007340', '004840', '155660', '069730', '017940', '365550', '383220', '007700', '114090', '078930', '006360', '001250', '007070', '078935', '012630', '039570', '089470', '294870', '009540', '267250', '267270', '322000', '042670', '267260', '329180', '097230', '014790', '003580', '204320', '060980', '011200', '082740', '035000', '003560', '175330', '234080', '001060', '001067', '001065', '096760', '105560', '432320', '002380', '344820', '009070', '009440', '119650', '092220', '003620', '016380', '001390', '033180', '015590', '001940', '025000', '092230', '000040', '044450', '030200', '033780', '058850', '058860', '093050', '003550', '034220', '051900', '051905', '373220', '003555', '032640', '011070', '066570', '066575', '037560', '051910', '051915', '079550', '006260', '010120', '000680', '229640', '108320', '001120', '108670', '108675', '383800', '38380K', '023150', '035420', '181710', '400760', '005940', '005945', '338100', '034310', '030190', '008260', '004250', '004255', '456040', '010060', '178920', '005490', '010950', '010955', '034120', '005090', '001380', '004060', '001770', '002360', '009160', '123700', '025530', '034730', '011790', '018670', '001740', '006120', '006125', '210980', '068400', '395400', '302440', '326030', '402340', '361610', '100090', '03473K', '096770', '096775', '001510', '001515', '285130', '28513K', '017670', '000660', '003570', '064960', '100840', '036530', '005610', '011810', '465770', '077970', '071970', '002820', '084870', '002710', '069260', '002900', '024070', '037270', '000500', '000860', '035250', '011420', '002100', '009450', '267290', '012320', '000050', '214390', '012610', '009140', '013580', '012200', '012205', '002140', '010130', '002240', '009290', '017040', '017900', '037710', '030610', '339770', '007690', '005320', '001140', '002720', '083420', '014530', '014280', '014285', '008870', '001570', '002990', '002995', '011780', '011785', '214330', '001210', '073240', '092440', '000270', '024110', '013700', '004540', '004545', '001260', '008350', '008355', '004270', '003920', '003925', '025860', '005720', '005725', '002350', '002355', '092790', '251270', '090350', '090355', '000320', '000325', '006280', '005250', '005257', '004370', '072710', '058730', '030210', '023590', '145210', '019680', '019685', '006370', '008060', '00806K', '353200', '35320K', '000490', '008110', '005750', '006570', '001680', '001685', '084690', '084695', '128820', '117580', '016710', '003540', '003547', '003545', '009190', '014160', '047040', '009320', '003090', '069620', '000430', '006340', '006345', '003220', '024890', '002880', '000300', '012800', '015230', '001070', '006650', '001440', '084010', '001790', '001795', '001130', '003490', '003495', '005880', '003830', '016090', '069460', '192080', '012510', '004830', '004835', '024900', '145720', '002150', '460850', '460860', '001230', '023450', '004140', '007590', '005960', '005965', '026960', '002210', '102260', '000640', '170900', '028100', '282690', '001520', '001527', '084670', '082640', '001525', '008970', '092780', '049770', '018500', '006040', '030720', '014820', '014825', '163560', '004890', '002690', '000020', '000150', '000157', '454910', '241560', '034020', '000155', '336260', '33626K', '33626L', '016740', '192650', '024090', '003160', '092200', '377190', '013570', '210540', '115390', '032350', '089860', '330590', '000400', '023530', '020150', '280360', '004000', '286940', '004990', '00499K', '005300', '005305', '011170', '071840', '027740', '357430', '001080', '088980', '094800', '138040', '090370', '017180', '009900', '012690', '005360', '204210', '009680', '009580', '009200', '033920', '008420', '025560', '007120', '396690', '357250', '085620', '006800', '00680K', '006805', '002840', '268280', '107590', '134380', '003650', '155900', '377740', '003610', '001340', '035150', '002410', '007210', '002760', '003850', '000890', '003000', '001270', '001275', '026940', '011390', '005030', '002070', '100220', '090460', '030790', '005180', '003960', '008040', '007160', '014710', '006090', '001470', '448730', '006400', '006405', '006660', '028260', '02826K', '207940', '032830', '018260', '028050', '009150', '009155', '005930', '005935', '001360', '010140', '016360', '068290', '029780', '000810', '000815', '006110', '145990', '145995', '003230', '002170', '272550', '000070', '000075', '003720', '002810', '005680', '023000', '004380', '002450', '004440', '000520', '009770', '005500', '004690', '010960', '004450', '009470', '011230', '001820', '000390', '001290', '041650', '075180', '007540', '248170', '007860', '200880', '017390', '004410', '004415', '021050', '008490', '007610', '136490', '014910', '014915', '003080', '004980', '004985', '011300', '000180', '002420', '004360', '004365', '004490', '001430', '306200', '003030', '019440', '058650', '013000', '091090', '021820', '067830', '033530', '075580', '068270', '336370', '33637K', '33637L', '248070', '004430', '126720', '017550', '053210', '026890', '134790', '016590', '029530', '004970', '011930', '005390', '004170', '035510', '034300', '031430', '031440', '006880', '005800', '001720', '001725', '009270', '002700', '002870', '019170', '019175', '404990', '293940', '055550', '004080', '102280', '003410', '004770', '403550', '004920', '112610', '308170', '008700', '002790', '00279K', '002795', '090430', '090435', '002030', '183190', '002310', '012170', '267850', '020560', '122900', '010780', '139990', '001780', '018250', '161000', '011090', '137310', '118000', '005850', '010580', '012750', '023960', '298690', '140910', '078520', '015260', '007460', '003060', '244920', '015540', '036570', '380440', '085310', '900140', '097520', '014440', '111770', '009970', '003520', '000670', '006740', '012280', '012160', '015360', '007310', '002630', '271560', '001800', '011690', '070960', '316140', '006980', '017370', '105840', '010400', '049800', '016880', '095720', '005820', '010600', '008600', '033270', '014830', '446070', '000910', '047400', '011330', '077500', '002920', '000700', '003470', '003475', '072130', '000220', '000225', '000227', '001200', '000100', '000105', '003460', '003465', '008730', '008250', '025820', '214320', '088260', '139480', '457190', '007660', '005950', '015020', '093230', '074610', '102460', '084680', '350520', '334890', '000760', '014990', '101140', '006490', '023800', '034590', '129260', '023810', '249420', '000230', '013360', '003120', '003200', '007110', '007570', '007575', '008500', '081000', '020760', '103590', '271940', '015860', '226320', '317400', '033240', '000950', '348950', '194370', '025620', '030000', '271980', '001560', '002620', '006220', '089590', '004910', '004700', '001550', '462520', '120030', '018470', '002600', '185750', '063160', '001630', '044380', '013890', '013870', '071320', '088790', '003780', '010640', '100250', '051630', '272450', '011000', '002780', '002787', '002785', '009310', '000650', '012600', '033250', '035720', '323410', '377300', '006380', '109070', '001620', '029460', '281820', '381970', '145270', '417310', '357120', '007815', '007810', '00781K', '003690', '192820', '044820', '005070', '005420', '071950', '002020', '003070', '003075', '450140', '45014K', '002025', '120110', '120115', '138490', '021240', '036420', '031820', '192400', '284740', '264900', '26490K', '005740', '005745', '259960', '020120', '039490', '014580', '015890', '006890', '003240', '011280', '004100', '004105', '009410', '009415', '001420', '007980', '055490', '078000', '214420', '019180', '363280', '36328K', '091810', '004870', '005690', '036580', '004720', '028670', '010820', '016800', '001020', '090080', '010770', '058430', '047050', '003670', '017810', '103140', '005810', '950210', '009810', '086790', '293480', '039130', '352820', '071090', '019490', '000080', '000087', '000140', '000145', '152550', '036460', '005430', '071050', '071055', '010040', '025540', '010100', '004090', '002200', '002960', '000240', '123890', '015760', '006200', '027970', '023350', '025890', '000970', '104700', '017960', '161890', '024720', '161390', '034830', '007280', '168490', '047810', '123690', '003350', '011500', '002390', '053690', '042700', '008930', '128940', '009240', '020000', '003680', '105630', '069640', '016450', '010420', '009180', '213500', '014680', '004710', '004150', '025750', '004960', '011700', '001750', '001755', '018880', '009420', '014130', '300720', '002220', '006390', '003300', '051600', '052690', '130660', '002320', '003480', '180640', '18064K', '005110', '009460', '372910', '000880', '00088K', '452260', '45226K', '451800', '088350', '000370', '009830', '009835', '272210', '012450', '042660', '000885', '003530', '003535', '195870', '101530', '143210', '000720', '000725', '453340', '086280', '064350', '079430', '012330', '010620', '069960', '004560', '004310', '017800', '307950', '011210', '004020', '005440', '005380', '005387', '005389', '005385', '001500', '011760', '227840', '126560', '001450', '057050', '093240', '003010', '111110', '008770', '008775', '002460', '378850', '241590', '006060', '013520', '010690', '133820', '010660', '000850', '016580', '032560', '004800', '094280', '298040', '298050', '298020', '298000', '093370', '081660', '005870', '079980', '005010', '000540', '000545', '003280']\n"
          ]
        }
      ]
    },
    {
      "cell_type": "code",
      "source": [
        "for ticker in stock.get_market_ticker_list():\n",
        "        종목 = stock.get_market_ticker_name(ticker)\n",
        "        print(종목)"
      ],
      "metadata": {
        "id": "mSNXrPiZBO64"
      },
      "execution_count": null,
      "outputs": []
    },
    {
      "cell_type": "code",
      "source": [
        "for ticker in stock.get_market_ticker_list():\n",
        "        종목 = stock.get_market_ticker_name(ticker)\n",
        "        if 종목 == '삼성전자' : print(ticker)"
      ],
      "metadata": {
        "colab": {
          "base_uri": "https://localhost:8080/"
        },
        "id": "xk6o39nACW_R",
        "outputId": "9c154e63-3064-48b1-f57d-f3fab5f1419b"
      },
      "execution_count": 20,
      "outputs": [
        {
          "output_type": "stream",
          "name": "stdout",
          "text": [
            "005930\n"
          ]
        }
      ]
    },
    {
      "cell_type": "code",
      "source": [
        "df = stock.get_market_ohlcv(\"20180107\", \"20231107\", \"005930\")"
      ],
      "metadata": {
        "id": "mkO2M7iVCq8Q"
      },
      "execution_count": 168,
      "outputs": []
    },
    {
      "cell_type": "code",
      "source": [
        "def normalize(stock_df):\n",
        "    sc = MinMaxScaler()\n",
        "    set_scaled = pd.DataFrame([])\n",
        "    set_scaled[['고가','저가']] = sc.fit_transform(stock_df[['고가','저가']].values.reshape(-1,1)).reshape(stock_df[['고가','저가']].shape)\n",
        "    set_scaled[['거래량']] = sc.fit_transform(stock_df[['거래량']])\n",
        "    set_scaled[['종가']] = sc.fit_transform(stock_df[['종가']])\n",
        "    set_scaled.set_index(keys=stock_df.index)\n",
        "\n",
        "    return set_scaled"
      ],
      "metadata": {
        "id": "cn5AL_0PMVRG"
      },
      "execution_count": 169,
      "outputs": []
    },
    {
      "cell_type": "code",
      "source": [
        "train, test = train_test_split(normalize(df), test_size = 0.2)"
      ],
      "metadata": {
        "id": "2nwCbZ3NO_l6"
      },
      "execution_count": 170,
      "outputs": []
    },
    {
      "cell_type": "code",
      "source": [
        "x_train = train[['고가','저가','거래량']].values\n",
        "x_test = test[['고가','저가','거래량']].values"
      ],
      "metadata": {
        "id": "kd6I8cj1PijS"
      },
      "execution_count": 171,
      "outputs": []
    },
    {
      "cell_type": "code",
      "source": [
        "y_train = train['종가'].values\n",
        "y_test = test['종가'].values"
      ],
      "metadata": {
        "id": "wn0QnNp6PtMC"
      },
      "execution_count": 172,
      "outputs": []
    },
    {
      "cell_type": "code",
      "source": [
        "model_lnr = LinearRegression()\n",
        "model_lnr.fit(x_train, y_train)"
      ],
      "metadata": {
        "colab": {
          "base_uri": "https://localhost:8080/",
          "height": 74
        },
        "id": "1ArXqFZwIgFU",
        "outputId": "993ec9ce-886b-46f8-bce0-289354c3a21a"
      },
      "execution_count": 173,
      "outputs": [
        {
          "output_type": "execute_result",
          "data": {
            "text/plain": [
              "LinearRegression()"
            ],
            "text/html": [
              "<style>#sk-container-id-1 {color: black;background-color: white;}#sk-container-id-1 pre{padding: 0;}#sk-container-id-1 div.sk-toggleable {background-color: white;}#sk-container-id-1 label.sk-toggleable__label {cursor: pointer;display: block;width: 100%;margin-bottom: 0;padding: 0.3em;box-sizing: border-box;text-align: center;}#sk-container-id-1 label.sk-toggleable__label-arrow:before {content: \"▸\";float: left;margin-right: 0.25em;color: #696969;}#sk-container-id-1 label.sk-toggleable__label-arrow:hover:before {color: black;}#sk-container-id-1 div.sk-estimator:hover label.sk-toggleable__label-arrow:before {color: black;}#sk-container-id-1 div.sk-toggleable__content {max-height: 0;max-width: 0;overflow: hidden;text-align: left;background-color: #f0f8ff;}#sk-container-id-1 div.sk-toggleable__content pre {margin: 0.2em;color: black;border-radius: 0.25em;background-color: #f0f8ff;}#sk-container-id-1 input.sk-toggleable__control:checked~div.sk-toggleable__content {max-height: 200px;max-width: 100%;overflow: auto;}#sk-container-id-1 input.sk-toggleable__control:checked~label.sk-toggleable__label-arrow:before {content: \"▾\";}#sk-container-id-1 div.sk-estimator input.sk-toggleable__control:checked~label.sk-toggleable__label {background-color: #d4ebff;}#sk-container-id-1 div.sk-label input.sk-toggleable__control:checked~label.sk-toggleable__label {background-color: #d4ebff;}#sk-container-id-1 input.sk-hidden--visually {border: 0;clip: rect(1px 1px 1px 1px);clip: rect(1px, 1px, 1px, 1px);height: 1px;margin: -1px;overflow: hidden;padding: 0;position: absolute;width: 1px;}#sk-container-id-1 div.sk-estimator {font-family: monospace;background-color: #f0f8ff;border: 1px dotted black;border-radius: 0.25em;box-sizing: border-box;margin-bottom: 0.5em;}#sk-container-id-1 div.sk-estimator:hover {background-color: #d4ebff;}#sk-container-id-1 div.sk-parallel-item::after {content: \"\";width: 100%;border-bottom: 1px solid gray;flex-grow: 1;}#sk-container-id-1 div.sk-label:hover label.sk-toggleable__label {background-color: #d4ebff;}#sk-container-id-1 div.sk-serial::before {content: \"\";position: absolute;border-left: 1px solid gray;box-sizing: border-box;top: 0;bottom: 0;left: 50%;z-index: 0;}#sk-container-id-1 div.sk-serial {display: flex;flex-direction: column;align-items: center;background-color: white;padding-right: 0.2em;padding-left: 0.2em;position: relative;}#sk-container-id-1 div.sk-item {position: relative;z-index: 1;}#sk-container-id-1 div.sk-parallel {display: flex;align-items: stretch;justify-content: center;background-color: white;position: relative;}#sk-container-id-1 div.sk-item::before, #sk-container-id-1 div.sk-parallel-item::before {content: \"\";position: absolute;border-left: 1px solid gray;box-sizing: border-box;top: 0;bottom: 0;left: 50%;z-index: -1;}#sk-container-id-1 div.sk-parallel-item {display: flex;flex-direction: column;z-index: 1;position: relative;background-color: white;}#sk-container-id-1 div.sk-parallel-item:first-child::after {align-self: flex-end;width: 50%;}#sk-container-id-1 div.sk-parallel-item:last-child::after {align-self: flex-start;width: 50%;}#sk-container-id-1 div.sk-parallel-item:only-child::after {width: 0;}#sk-container-id-1 div.sk-dashed-wrapped {border: 1px dashed gray;margin: 0 0.4em 0.5em 0.4em;box-sizing: border-box;padding-bottom: 0.4em;background-color: white;}#sk-container-id-1 div.sk-label label {font-family: monospace;font-weight: bold;display: inline-block;line-height: 1.2em;}#sk-container-id-1 div.sk-label-container {text-align: center;}#sk-container-id-1 div.sk-container {/* jupyter's `normalize.less` sets `[hidden] { display: none; }` but bootstrap.min.css set `[hidden] { display: none !important; }` so we also need the `!important` here to be able to override the default hidden behavior on the sphinx rendered scikit-learn.org. See: https://github.com/scikit-learn/scikit-learn/issues/21755 */display: inline-block !important;position: relative;}#sk-container-id-1 div.sk-text-repr-fallback {display: none;}</style><div id=\"sk-container-id-1\" class=\"sk-top-container\"><div class=\"sk-text-repr-fallback\"><pre>LinearRegression()</pre><b>In a Jupyter environment, please rerun this cell to show the HTML representation or trust the notebook. <br />On GitHub, the HTML representation is unable to render, please try loading this page with nbviewer.org.</b></div><div class=\"sk-container\" hidden><div class=\"sk-item\"><div class=\"sk-estimator sk-toggleable\"><input class=\"sk-toggleable__control sk-hidden--visually\" id=\"sk-estimator-id-1\" type=\"checkbox\" checked><label for=\"sk-estimator-id-1\" class=\"sk-toggleable__label sk-toggleable__label-arrow\">LinearRegression</label><div class=\"sk-toggleable__content\"><pre>LinearRegression()</pre></div></div></div></div></div>"
            ]
          },
          "metadata": {},
          "execution_count": 173
        }
      ]
    }
  ]
}